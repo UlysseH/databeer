{
 "cells": [
  {
   "cell_type": "markdown",
   "metadata": {},
   "source": [
    "---\n",
    "## Hops Studies\n",
    "---"
   ]
  },
  {
   "cell_type": "markdown",
   "metadata": {},
   "source": [
    "### Step 1: Importing libraries, loading, formatting and normalizing data"
   ]
  },
  {
   "cell_type": "code",
   "execution_count": 97,
   "metadata": {
    "collapsed": true
   },
   "outputs": [],
   "source": [
    "import numpy as np\n",
    "import pandas as pd"
   ]
  },
  {
   "cell_type": "code",
   "execution_count": 98,
   "metadata": {
    "collapsed": false
   },
   "outputs": [],
   "source": [
    "%run utils.py"
   ]
  },
  {
   "cell_type": "code",
   "execution_count": 99,
   "metadata": {
    "collapsed": false
   },
   "outputs": [],
   "source": [
    "# Loading data from csv\n",
    "data = load_from_csv(1, 10)"
   ]
  },
  {
   "cell_type": "code",
   "execution_count": 100,
   "metadata": {
    "collapsed": false,
    "scrolled": true
   },
   "outputs": [],
   "source": [
    "# Formatting data\n",
    "data = format_data(data)"
   ]
  },
  {
   "cell_type": "code",
   "execution_count": 101,
   "metadata": {
    "collapsed": true
   },
   "outputs": [],
   "source": [
    "recipes = data['recipes']\n",
    "styles = data['styles']\n",
    "hops = data['hops']"
   ]
  },
  {
   "cell_type": "code",
   "execution_count": 102,
   "metadata": {
    "collapsed": false
   },
   "outputs": [
    {
     "data": {
      "text/html": [
       "<div>\n",
       "<table border=\"1\" class=\"dataframe\">\n",
       "  <thead>\n",
       "    <tr style=\"text-align: right;\">\n",
       "      <th></th>\n",
       "      <th>beer_id</th>\n",
       "      <th>beer_name</th>\n",
       "      <th>name</th>\n",
       "      <th>origin</th>\n",
       "      <th>alpha</th>\n",
       "      <th>beta</th>\n",
       "      <th>amount</th>\n",
       "      <th>use</th>\n",
       "      <th>form</th>\n",
       "      <th>time</th>\n",
       "      <th>notes</th>\n",
       "    </tr>\n",
       "  </thead>\n",
       "  <tbody>\n",
       "    <tr>\n",
       "      <th>0</th>\n",
       "      <td>big-bens-brown-ale</td>\n",
       "      <td>Big Ben's Brown Ale</td>\n",
       "      <td>Centennial (US)</td>\n",
       "      <td>United States</td>\n",
       "      <td>10.50</td>\n",
       "      <td></td>\n",
       "      <td>14.0</td>\n",
       "      <td>Boil</td>\n",
       "      <td>Pellet</td>\n",
       "      <td>60.0</td>\n",
       "      <td>American aroma-type variety bred in 1974 and r...</td>\n",
       "    </tr>\n",
       "    <tr>\n",
       "      <th>1</th>\n",
       "      <td>big-bens-brown-ale</td>\n",
       "      <td>Big Ben's Brown Ale</td>\n",
       "      <td>Cascade (US)</td>\n",
       "      <td>United States</td>\n",
       "      <td>5.75</td>\n",
       "      <td></td>\n",
       "      <td>14.0</td>\n",
       "      <td>Boil</td>\n",
       "      <td>Pellet</td>\n",
       "      <td>30.0</td>\n",
       "      <td>Very successful and well-established American ...</td>\n",
       "    </tr>\n",
       "    <tr>\n",
       "      <th>2</th>\n",
       "      <td>big-bens-brown-ale</td>\n",
       "      <td>Big Ben's Brown Ale</td>\n",
       "      <td>Cascade (US)</td>\n",
       "      <td>United States</td>\n",
       "      <td>5.75</td>\n",
       "      <td></td>\n",
       "      <td>14.0</td>\n",
       "      <td>Boil</td>\n",
       "      <td>Pellet</td>\n",
       "      <td>15.0</td>\n",
       "      <td>Very successful and well-established American ...</td>\n",
       "    </tr>\n",
       "  </tbody>\n",
       "</table>\n",
       "</div>"
      ],
      "text/plain": [
       "              beer_id             beer_name             name         origin  \\\n",
       "0  big-bens-brown-ale  Big Ben's Brown Ale   Centennial (US)  United States   \n",
       "1  big-bens-brown-ale  Big Ben's Brown Ale      Cascade (US)  United States   \n",
       "2  big-bens-brown-ale  Big Ben's Brown Ale      Cascade (US)  United States   \n",
       "\n",
       "   alpha beta  amount   use    form  time  \\\n",
       "0  10.50         14.0  Boil  Pellet  60.0   \n",
       "1   5.75         14.0  Boil  Pellet  30.0   \n",
       "2   5.75         14.0  Boil  Pellet  15.0   \n",
       "\n",
       "                                               notes  \n",
       "0  American aroma-type variety bred in 1974 and r...  \n",
       "1  Very successful and well-established American ...  \n",
       "2  Very successful and well-established American ...  "
      ]
     },
     "execution_count": 102,
     "metadata": {},
     "output_type": "execute_result"
    }
   ],
   "source": [
    "hops[:3]"
   ]
  },
  {
   "cell_type": "markdown",
   "metadata": {},
   "source": [
    "### Normalizing quantities (except for Miscs)\n",
    "Quantities ('amount' field) has to be normalized relatively to the size of the batch."
   ]
  },
  {
   "cell_type": "code",
   "execution_count": 103,
   "metadata": {
    "collapsed": false
   },
   "outputs": [],
   "source": [
    "cols = hops.keys()\n",
    "# Selecting features\n",
    "cols = ['beer_id', 'name', 'alpha', 'use', 'time']\n",
    "hops = pd.merge(recipes, hops, on=['beer_id', 'beer_name'], how='left')\n",
    "hops = hops[hops.batch_size != 0]\n",
    "hops['weight_rel'] = hops['amount'] / hops['batch_size']\n",
    "cols.append('weight_rel')\n",
    "hops = hops[cols]"
   ]
  },
  {
   "cell_type": "code",
   "execution_count": 104,
   "metadata": {
    "collapsed": false
   },
   "outputs": [
    {
     "data": {
      "text/html": [
       "<div>\n",
       "<table border=\"1\" class=\"dataframe\">\n",
       "  <thead>\n",
       "    <tr style=\"text-align: right;\">\n",
       "      <th></th>\n",
       "      <th>beer_id</th>\n",
       "      <th>name</th>\n",
       "      <th>alpha</th>\n",
       "      <th>use</th>\n",
       "      <th>time</th>\n",
       "      <th>weight_rel</th>\n",
       "    </tr>\n",
       "  </thead>\n",
       "  <tbody>\n",
       "    <tr>\n",
       "      <th>0</th>\n",
       "      <td>big-bens-brown-ale</td>\n",
       "      <td>Centennial (US)</td>\n",
       "      <td>10.50</td>\n",
       "      <td>Boil</td>\n",
       "      <td>60.0</td>\n",
       "      <td>0.739682</td>\n",
       "    </tr>\n",
       "    <tr>\n",
       "      <th>1</th>\n",
       "      <td>big-bens-brown-ale</td>\n",
       "      <td>Cascade (US)</td>\n",
       "      <td>5.75</td>\n",
       "      <td>Boil</td>\n",
       "      <td>30.0</td>\n",
       "      <td>0.739682</td>\n",
       "    </tr>\n",
       "    <tr>\n",
       "      <th>2</th>\n",
       "      <td>big-bens-brown-ale</td>\n",
       "      <td>Cascade (US)</td>\n",
       "      <td>5.75</td>\n",
       "      <td>Boil</td>\n",
       "      <td>15.0</td>\n",
       "      <td>0.739682</td>\n",
       "    </tr>\n",
       "    <tr>\n",
       "      <th>3</th>\n",
       "      <td>big-bens-brown-ale</td>\n",
       "      <td>Centennial (US)</td>\n",
       "      <td>10.50</td>\n",
       "      <td>Boil</td>\n",
       "      <td>5.0</td>\n",
       "      <td>0.739682</td>\n",
       "    </tr>\n",
       "    <tr>\n",
       "      <th>4</th>\n",
       "      <td>lemon-saison-1</td>\n",
       "      <td>Citra (US)</td>\n",
       "      <td>14.00</td>\n",
       "      <td>Boil</td>\n",
       "      <td>60.0</td>\n",
       "      <td>0.591746</td>\n",
       "    </tr>\n",
       "  </tbody>\n",
       "</table>\n",
       "</div>"
      ],
      "text/plain": [
       "              beer_id             name  alpha   use  time  weight_rel\n",
       "0  big-bens-brown-ale  Centennial (US)  10.50  Boil  60.0    0.739682\n",
       "1  big-bens-brown-ale     Cascade (US)   5.75  Boil  30.0    0.739682\n",
       "2  big-bens-brown-ale     Cascade (US)   5.75  Boil  15.0    0.739682\n",
       "3  big-bens-brown-ale  Centennial (US)  10.50  Boil   5.0    0.739682\n",
       "4      lemon-saison-1       Citra (US)  14.00  Boil  60.0    0.591746"
      ]
     },
     "execution_count": 104,
     "metadata": {},
     "output_type": "execute_result"
    }
   ],
   "source": [
    "hops[:5]"
   ]
  },
  {
   "cell_type": "markdown",
   "metadata": {},
   "source": [
    "### Step 2: Grouping data and performing aggregations"
   ]
  },
  {
   "cell_type": "code",
   "execution_count": 105,
   "metadata": {
    "collapsed": false
   },
   "outputs": [],
   "source": [
    "# Grouping Hops data on beer_id\n",
    "hops_grouped = hops.groupby('beer_id')"
   ]
  },
  {
   "cell_type": "markdown",
   "metadata": {},
   "source": [
    "#### 2.1: Hops aggregations\n",
    "Various aggregations on Hops. The three following cells define three different aggregations of hops on 'beer_id'.\n",
    "+ 1: list hops (unique) with quantity in recipe\n",
    "+ 2: list hops by use (Boil, Dry Hop, ...)\n",
    "+ 3: Put essential informations for all hops in one dict (doesn't feel right...)"
   ]
  },
  {
   "cell_type": "markdown",
   "metadata": {},
   "source": [
    "##### 2.1.1. Hops (unique) and quantity"
   ]
  },
  {
   "cell_type": "code",
   "execution_count": 106,
   "metadata": {
    "collapsed": true
   },
   "outputs": [],
   "source": [
    "# Play on params_lvl_1, params_lvl_2 and f to change aggregation rules\n",
    "params_lvl_2_1 = ['name', 'alpha', 'amount', 'use', 'time']\n",
    "params_lvl_1_1 = ['hops']\n",
    "def f_1(l):\n",
    "    d = {key: '' for key in params_lvl_1_1}\n",
    "    # begin\n",
    "    d['hops'] = []\n",
    "    for el in l:\n",
    "        name = el['name']\n",
    "        if name not in d['hops']:\n",
    "            d['hops'].append({'name': name, 'amount': el['amount']})\n",
    "        else:\n",
    "            d['hops']['amount'] = d['hops']['amount'] + el['amount']\n",
    "    # end\n",
    "    return d"
   ]
  },
  {
   "cell_type": "markdown",
   "metadata": {},
   "source": [
    "##### 2.1.2. Hops per use"
   ]
  },
  {
   "cell_type": "code",
   "execution_count": 107,
   "metadata": {
    "collapsed": false
   },
   "outputs": [],
   "source": [
    "# Hops per use\n",
    "params_lvl_2_2 = ['name', 'alpha', 'amount', 'use', 'time']\n",
    "params_lvl_1_2 = list(hops['use'].drop_duplicates())\n",
    "def f_2(l):\n",
    "    d = {key: [] for key in params_lvl_1_2}\n",
    "    # begin\n",
    "    for el in l:\n",
    "        name = el['name']\n",
    "        use = el['use']\n",
    "        if name not in d[use]:\n",
    "            d[use].append(name)\n",
    "        else:\n",
    "            d[use] = [name]\n",
    "    # end\n",
    "    return d"
   ]
  },
  {
   "cell_type": "markdown",
   "metadata": {},
   "source": [
    "##### 2.1.3. Comprehensive Hops additions"
   ]
  },
  {
   "cell_type": "code",
   "execution_count": 108,
   "metadata": {
    "collapsed": false
   },
   "outputs": [],
   "source": [
    "# Hops with time\n",
    "params_lvl_2_3 = ['name', 'alpha', 'amount', 'use', 'time']\n",
    "params_lvl_1_3 = list(hops['use'].drop_duplicates())\n",
    "def f_3(l):\n",
    "    d = {key: [] for key in params_lvl_1_3}\n",
    "    # begin\n",
    "    for el in l:\n",
    "        name = el['name']\n",
    "        use = el['use'] \n",
    "        d[use].append({'name': name, 'time': el['time'], 'amount': el['amount'], 'alpha': el['alpha']})\n",
    "    # end\n",
    "    return d"
   ]
  },
  {
   "cell_type": "markdown",
   "metadata": {},
   "source": [
    "##### Computing one of the options above"
   ]
  },
  {
   "cell_type": "code",
   "execution_count": 109,
   "metadata": {
    "collapsed": false
   },
   "outputs": [],
   "source": [
    "f = f_2\n",
    "params_lvl_1 = params_lvl_1_2\n",
    "params_lvl_2 = params_lvl_2_2"
   ]
  },
  {
   "cell_type": "code",
   "execution_count": 110,
   "metadata": {
    "collapsed": false
   },
   "outputs": [],
   "source": [
    "recipes_list = []\n",
    "for key in hops_grouped.groups.keys():\n",
    "    hops_list_out = []\n",
    "    hops_list_in = hops_grouped.groups[key]\n",
    "    for hop_nb in hops_list_in:\n",
    "        hop = hops.loc[hop_nb]\n",
    "        hops_list_out.append(dict(hop[params_lvl_2]))\n",
    "    #    \n",
    "    recipe_dict = f(hops_list_out)\n",
    "    recipe_dict['beer_id'] = key\n",
    "    recipes_list.append(recipe_dict)\n",
    "hops_steps = pd.DataFrame(recipes_list)"
   ]
  },
  {
   "cell_type": "code",
   "execution_count": 111,
   "metadata": {
    "collapsed": false,
    "scrolled": true
   },
   "outputs": [
    {
     "data": {
      "text/html": [
       "<div>\n",
       "<table border=\"1\" class=\"dataframe\">\n",
       "  <thead>\n",
       "    <tr style=\"text-align: right;\">\n",
       "      <th></th>\n",
       "      <th>nan</th>\n",
       "      <th>Boil</th>\n",
       "      <th>Dry Hop</th>\n",
       "      <th>First Wort</th>\n",
       "      <th>Mash</th>\n",
       "      <th>Whirlpool</th>\n",
       "      <th>beer_id</th>\n",
       "    </tr>\n",
       "  </thead>\n",
       "  <tbody>\n",
       "    <tr>\n",
       "      <th>0</th>\n",
       "      <td>[]</td>\n",
       "      <td>[Galena (US), Cascade (US)]</td>\n",
       "      <td>[Cascade (US)]</td>\n",
       "      <td>[]</td>\n",
       "      <td>[]</td>\n",
       "      <td>[]</td>\n",
       "      <td>indica-clone</td>\n",
       "    </tr>\n",
       "    <tr>\n",
       "      <th>1</th>\n",
       "      <td>[]</td>\n",
       "      <td>[Fuggle (UK)]</td>\n",
       "      <td>[]</td>\n",
       "      <td>[]</td>\n",
       "      <td>[]</td>\n",
       "      <td>[]</td>\n",
       "      <td>nut-brown-ale-102</td>\n",
       "    </tr>\n",
       "    <tr>\n",
       "      <th>2</th>\n",
       "      <td>[]</td>\n",
       "      <td>[Williamette (US)]</td>\n",
       "      <td>[]</td>\n",
       "      <td>[]</td>\n",
       "      <td>[]</td>\n",
       "      <td>[]</td>\n",
       "      <td>dont-push-back-strawberry-blonde</td>\n",
       "    </tr>\n",
       "    <tr>\n",
       "      <th>3</th>\n",
       "      <td>[]</td>\n",
       "      <td>[Willamette (US)]</td>\n",
       "      <td>[]</td>\n",
       "      <td>[]</td>\n",
       "      <td>[]</td>\n",
       "      <td>[]</td>\n",
       "      <td>orange-door-blonde</td>\n",
       "    </tr>\n",
       "    <tr>\n",
       "      <th>4</th>\n",
       "      <td>[]</td>\n",
       "      <td>[Hallertau (DE)]</td>\n",
       "      <td>[]</td>\n",
       "      <td>[]</td>\n",
       "      <td>[]</td>\n",
       "      <td>[]</td>\n",
       "      <td>golden-magic-hefeweizen</td>\n",
       "    </tr>\n",
       "  </tbody>\n",
       "</table>\n",
       "</div>"
      ],
      "text/plain": [
       "  NaN                         Boil         Dry Hop First Wort Mash Whirlpool  \\\n",
       "0  []  [Galena (US), Cascade (US)]  [Cascade (US)]         []   []        []   \n",
       "1  []                [Fuggle (UK)]              []         []   []        []   \n",
       "2  []           [Williamette (US)]              []         []   []        []   \n",
       "3  []            [Willamette (US)]              []         []   []        []   \n",
       "4  []             [Hallertau (DE)]              []         []   []        []   \n",
       "\n",
       "                            beer_id  \n",
       "0                      indica-clone  \n",
       "1                 nut-brown-ale-102  \n",
       "2  dont-push-back-strawberry-blonde  \n",
       "3                orange-door-blonde  \n",
       "4           golden-magic-hefeweizen  "
      ]
     },
     "execution_count": 111,
     "metadata": {},
     "output_type": "execute_result"
    }
   ],
   "source": [
    "hops_steps[:5]"
   ]
  },
  {
   "cell_type": "markdown",
   "metadata": {
    "collapsed": true
   },
   "source": [
    "##### 2.1.4. A list of DataFrames\n",
    "Builds a list of Hops DataFrames(ordered by **time**), one for each recipe.\n",
    "This is the sort of data we could use to train a **RNN**."
   ]
  },
  {
   "cell_type": "code",
   "execution_count": 116,
   "metadata": {
    "collapsed": false
   },
   "outputs": [],
   "source": [
    "params = ['time', 'name', 'weight_rel', 'alpha']\n",
    "groups = hops_grouped.groups\n",
    "recipes_hops_dfs = []\n",
    "for group in groups:\n",
    "    l = []\n",
    "    for elt in groups[group]:\n",
    "        d = {x: '' for x in params}\n",
    "        hop = hops.loc[elt]\n",
    "        for param in params:\n",
    "            d[param] = hop[param]\n",
    "        if hop['use'] == 'Dry Hop':\n",
    "            d['Dry Hop'] = True\n",
    "        else:\n",
    "            d['Dry Hop'] = False\n",
    "        l.append(d)\n",
    "        recipes_hops_dfs.append(pd.DataFrame(l))"
   ]
  },
  {
   "cell_type": "code",
   "execution_count": 133,
   "metadata": {
    "collapsed": false
   },
   "outputs": [
    {
     "data": {
      "text/html": [
       "<div>\n",
       "<table border=\"1\" class=\"dataframe\">\n",
       "  <thead>\n",
       "    <tr style=\"text-align: right;\">\n",
       "      <th></th>\n",
       "      <th>Dry Hop</th>\n",
       "      <th>alpha</th>\n",
       "      <th>name</th>\n",
       "      <th>time</th>\n",
       "      <th>weight_rel</th>\n",
       "    </tr>\n",
       "  </thead>\n",
       "  <tbody>\n",
       "    <tr>\n",
       "      <th>0</th>\n",
       "      <td>False</td>\n",
       "      <td>5.8</td>\n",
       "      <td>Kent Golding (UK)</td>\n",
       "      <td>20.0</td>\n",
       "      <td>0.739682</td>\n",
       "    </tr>\n",
       "    <tr>\n",
       "      <th>1</th>\n",
       "      <td>False</td>\n",
       "      <td>5.8</td>\n",
       "      <td>Kent Golding (UK)</td>\n",
       "      <td>60.0</td>\n",
       "      <td>2.219045</td>\n",
       "    </tr>\n",
       "    <tr>\n",
       "      <th>2</th>\n",
       "      <td>False</td>\n",
       "      <td>5.8</td>\n",
       "      <td>Kent Golding (UK)</td>\n",
       "      <td>0.0</td>\n",
       "      <td>1.479363</td>\n",
       "    </tr>\n",
       "  </tbody>\n",
       "</table>\n",
       "</div>"
      ],
      "text/plain": [
       "  Dry Hop  alpha               name  time  weight_rel\n",
       "0   False    5.8  Kent Golding (UK)  20.0    0.739682\n",
       "1   False    5.8  Kent Golding (UK)  60.0    2.219045\n",
       "2   False    5.8  Kent Golding (UK)   0.0    1.479363"
      ]
     },
     "execution_count": 133,
     "metadata": {},
     "output_type": "execute_result"
    }
   ],
   "source": [
    "recipes_hops_dfs[24]"
   ]
  }
 ],
 "metadata": {
  "kernelspec": {
   "display_name": "Python 2",
   "language": "python",
   "name": "python2"
  },
  "language_info": {
   "codemirror_mode": {
    "name": "ipython",
    "version": 2
   },
   "file_extension": ".py",
   "mimetype": "text/x-python",
   "name": "python",
   "nbconvert_exporter": "python",
   "pygments_lexer": "ipython2",
   "version": "2.7.9"
  }
 },
 "nbformat": 4,
 "nbformat_minor": 0
}
